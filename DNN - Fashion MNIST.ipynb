{
 "cells": [
  {
   "cell_type": "code",
   "execution_count": 1,
   "metadata": {},
   "outputs": [],
   "source": [
    "import torch\n",
    "import torchvision\n",
    "import torch.nn as nn\n",
    "import torch.nn.functional as F\n",
    "import torch.optim as optim\n",
    "from torchvision import datasets, transforms\n",
    "import matplotlib.pyplot as plt"
   ]
  },
  {
   "cell_type": "code",
   "execution_count": 2,
   "metadata": {},
   "outputs": [],
   "source": [
    "transform = transforms.Compose([\n",
    "                                transforms.ToTensor(),\n",
    "                                transforms.Normalize((0.5,), (0.5,))\n",
    "                    ])\n",
    "trainset = datasets.FashionMNIST('~/.pytorch/F_MNIST_data/', download=True, train=True, transform=transform)\n",
    "testset = datasets.FashionMNIST('~/.pytorch/F_MNIST_data/', download=True, train=False, transform=transform)\n",
    "\n",
    "trainloader = torch.utils.data.DataLoader(trainset,batch_size=64,shuffle= True)\n",
    "testloader = torch.utils.data.DataLoader(testset,batch_size=64,shuffle=True)"
   ]
  },
  {
   "cell_type": "code",
   "execution_count": 3,
   "metadata": {},
   "outputs": [],
   "source": [
    "class Network(nn.Module):\n",
    "    def __init__(self):\n",
    "        super().__init__()\n",
    "        self.fc1 = nn.Linear(784,256)\n",
    "        self.fc2 = nn.Linear(256,128)\n",
    "        self.fc3 = nn.Linear(128,64)\n",
    "        self.fc4 = nn.Linear(64,10)\n",
    "        \n",
    "        self.dropout = nn.Dropout(p=0.2)\n",
    "        \n",
    "    def forward(self,x):\n",
    "        x = x.view(x.shape[0],-1)\n",
    "        \n",
    "        x = self.dropout(F.relu(self.fc1(x)))\n",
    "        x = self.dropout(F.relu(self.fc2(x)))\n",
    "        x = self.dropout(F.relu(self.fc3(x)))\n",
    "        x= F.log_softmax(self.fc4(x),dim=1)\n",
    "        \n",
    "        return x\n",
    "    \n",
    "    \n"
   ]
  },
  {
   "cell_type": "code",
   "execution_count": 4,
   "metadata": {},
   "outputs": [],
   "source": [
    "model = Network()\n",
    "criterion = nn.NLLLoss()\n",
    "optimizer = optim.Adam(model.parameters(),lr=0.003)"
   ]
  },
  {
   "cell_type": "code",
   "execution_count": 5,
   "metadata": {},
   "outputs": [
    {
     "name": "stdout",
     "output_type": "stream",
     "text": [
      "Epoch: 1/10..  Training Loss: 0.614..  Test Loss: 0.470..  Train Accuracy: 0.782 Test Accuracy: 0.827\n",
      "Epoch: 2/10..  Training Loss: 0.486..  Test Loss: 0.438..  Train Accuracy: 0.830 Test Accuracy: 0.843\n",
      "Epoch: 3/10..  Training Loss: 0.451..  Test Loss: 0.425..  Train Accuracy: 0.841 Test Accuracy: 0.849\n",
      "Epoch: 4/10..  Training Loss: 0.431..  Test Loss: 0.429..  Train Accuracy: 0.848 Test Accuracy: 0.849\n",
      "Epoch: 5/10..  Training Loss: 0.422..  Test Loss: 0.402..  Train Accuracy: 0.853 Test Accuracy: 0.859\n",
      "Epoch: 6/10..  Training Loss: 0.419..  Test Loss: 0.400..  Train Accuracy: 0.852 Test Accuracy: 0.859\n",
      "Epoch: 7/10..  Training Loss: 0.405..  Test Loss: 0.393..  Train Accuracy: 0.858 Test Accuracy: 0.859\n",
      "Epoch: 8/10..  Training Loss: 0.396..  Test Loss: 0.407..  Train Accuracy: 0.863 Test Accuracy: 0.859\n",
      "Epoch: 9/10..  Training Loss: 0.393..  Test Loss: 0.385..  Train Accuracy: 0.863 Test Accuracy: 0.864\n",
      "Epoch: 10/10..  Training Loss: 0.391..  Test Loss: 0.427..  Train Accuracy: 0.863 Test Accuracy: 0.855\n"
     ]
    }
   ],
   "source": [
    "epochs= 10\n",
    "train_losses=[]\n",
    "test_losses=[]\n",
    "model.train()\n",
    "for e in range(epochs):\n",
    "    train_loss = 0\n",
    "    train_accuracy=0\n",
    "    for images,labels in trainloader:\n",
    "        outputs = model(images)\n",
    "        loss = criterion(outputs,labels)\n",
    "        optimizer.zero_grad()\n",
    "        loss.backward()\n",
    "        optimizer.step()\n",
    "        \n",
    "        train_loss += loss.item()\n",
    "        preds = torch.exp(outputs)\n",
    "        top_class= torch.argmax(preds,dim=1)\n",
    "        equals = top_class == labels.view(*top_class.shape)\n",
    "        train_accuracy += torch.mean(equals.type(torch.FloatTensor))\n",
    "        \n",
    "        \n",
    "        \n",
    "    \n",
    "    else :\n",
    "        test_loss=0\n",
    "        test_accuracy=0\n",
    "        with torch.no_grad():\n",
    "            model.eval()\n",
    "            for images,labels in testloader:\n",
    "                    predictions = model(images)\n",
    "                    loss = criterion(predictions,labels)\n",
    "                    test_loss += loss.item()\n",
    "                    predictions = torch.exp(predictions)\n",
    "                    top_class = torch.argmax(predictions,dim=1)\n",
    "                    equals = top_class == labels.view(*top_class.shape)\n",
    "                    test_accuracy += torch.mean(equals.type(torch.FloatTensor))\n",
    "                    \n",
    "        train_losses.append(train_loss/len(trainloader))\n",
    "        test_losses.append(test_loss/len(testloader))\n",
    "        print(\"Epoch: {}/{}.. \".format(e+1, epochs),\n",
    "              \"Training Loss: {:.3f}.. \".format(train_loss/len(trainloader)),\n",
    "              \"Test Loss: {:.3f}.. \".format(test_loss/len(testloader)),\n",
    "              \"Train Accuracy: {:.3f}\".format(train_accuracy/len(trainloader)),\n",
    "              \"Test Accuracy: {:.3f}\".format(test_accuracy/len(testloader)))\n",
    "        \n",
    "        model.train()"
   ]
  },
  {
   "cell_type": "code",
   "execution_count": 6,
   "metadata": {},
   "outputs": [
    {
     "data": {
      "text/plain": [
       "<matplotlib.legend.Legend at 0x1efbd335b48>"
      ]
     },
     "execution_count": 6,
     "metadata": {},
     "output_type": "execute_result"
    },
    {
     "data": {
      "image/png": "[encoded data removed]",
      "text/plain": [
       "<Figure size 432x288 with 1 Axes>"
      ]
     },
     "metadata": {
      "needs_background": "light"
     },
     "output_type": "display_data"
    }
   ],
   "source": [
    "plt.plot(train_losses, label='Training loss')\n",
    "plt.plot(test_losses, label='Validation loss')\n",
    "plt.legend(frameon=False)"
   ]
  },
  {
   "cell_type": "code",
   "execution_count": null,
   "metadata": {},
   "outputs": [],
   "source": []
  }
 ],
 "metadata": {
  "kernelspec": {
   "display_name": "Python 3",
   "language": "python",
   "name": "python3"
  },
  "language_info": {
   "codemirror_mode": {
    "name": "ipython",
    "version": 3
   },
   "file_extension": ".py",
   "mimetype": "text/x-python",
   "name": "python",
   "nbconvert_exporter": "python",
   "pygments_lexer": "ipython3",
   "version": "3.7.6"
  }
 },
 "nbformat": 4,
 "nbformat_minor": 4
}
